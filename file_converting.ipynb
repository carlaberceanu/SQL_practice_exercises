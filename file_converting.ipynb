{
 "cells": [
  {
   "cell_type": "code",
   "execution_count": 33,
   "id": "eabb600e-393f-4af0-becf-b8967dd05951",
   "metadata": {},
   "outputs": [],
   "source": [
    "import json\n",
    "import nbformat as nbf"
   ]
  },
  {
   "cell_type": "code",
   "execution_count": 34,
   "id": "03cc191b-8a86-473e-97f2-f9d50a4124f1",
   "metadata": {},
   "outputs": [],
   "source": [
    "with open('sql-practice.com.json') as f:\n",
    "    data = json.load(f)"
   ]
  },
  {
   "cell_type": "code",
   "execution_count": 35,
   "id": "138e10d5-9a62-43e1-ae1b-49b9e9c1af14",
   "metadata": {},
   "outputs": [],
   "source": [
    "nb = nbf.v4.new_notebook()\n",
    "cells = []"
   ]
  },
  {
   "cell_type": "code",
   "execution_count": 36,
   "id": "2c70b127-0c5c-4e68-82e3-9e3d897df599",
   "metadata": {},
   "outputs": [],
   "source": [
    "cells.append(nbf.v4.new_markdown_cell(\"# SQL Practice Exercises\"))"
   ]
  },
  {
   "cell_type": "code",
   "execution_count": 37,
   "id": "489b4b08-6b82-4b0f-a59e-c256e76b5ca0",
   "metadata": {},
   "outputs": [],
   "source": [
    "# Loop through each solved question and create notebook cells\n",
    "for question in data['questionsSolved']:\n",
    "    sql_query = question['userSolution']\n",
    "    question_id = question['id']\n",
    "    hint_count = question['hints'] - 1\n",
    "    solved_time = question['solvedTime'] // 1000  # converting milliseconds to seconds\n",
    "     \n",
    "    # Add markdown cell with Question ID and Time\n",
    "    cells.append(nbf.v4.new_markdown_cell(\n",
    "        f\"### Question ID: {question_id}\\n\"\n",
    "        f\"- **Solved Time:** {solved_time} seconds\\n\"\n",
    "        f\"- **Hints Used:** {hint_count}\\n\"\n",
    "        \"---\"\n",
    "    ))\n",
    "\n",
    "    # Add SQL code cell\n",
    "    cells.append(nbf.v4.new_code_cell(f\"%%sql\\n{sql_query}\"))\n",
    "\n",
    "nb['cells'] = cells\n",
    "    "
   ]
  },
  {
   "cell_type": "code",
   "execution_count": 38,
   "id": "5aeafc55-9f7f-4b9c-a00f-cd47649107de",
   "metadata": {},
   "outputs": [
    {
     "data": {
      "text/plain": [
       "1"
      ]
     },
     "execution_count": 38,
     "metadata": {},
     "output_type": "execute_result"
    }
   ],
   "source": [
    "question['hints']"
   ]
  },
  {
   "cell_type": "code",
   "execution_count": 39,
   "id": "8d50dc23-c6ee-4a1c-a924-b264f93e5f76",
   "metadata": {},
   "outputs": [],
   "source": [
    "# Save notebook file\n",
    "with open('SQL_Practice_Exercises.ipynb', 'w') as f:\n",
    "    nbf.write(nb, f)"
   ]
  }
 ],
 "metadata": {
  "kernelspec": {
   "display_name": "Python 3 (ipykernel)",
   "language": "python",
   "name": "python3"
  },
  "language_info": {
   "codemirror_mode": {
    "name": "ipython",
    "version": 3
   },
   "file_extension": ".py",
   "mimetype": "text/x-python",
   "name": "python",
   "nbconvert_exporter": "python",
   "pygments_lexer": "ipython3",
   "version": "3.12.7"
  }
 },
 "nbformat": 4,
 "nbformat_minor": 5
}
