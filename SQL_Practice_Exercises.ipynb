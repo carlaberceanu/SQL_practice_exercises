{
 "cells": [
  {
   "cell_type": "markdown",
   "id": "6e3874d9",
   "metadata": {},
   "source": [
    "# SQL Practice Exercises"
   ]
  },
  {
   "cell_type": "markdown",
   "id": "aca50836",
   "metadata": {},
   "source": [
    "### Question ID: 0\n",
    "- **Solved Time:** 25 seconds\n",
    "- **Hints Used:** 0\n",
    "---"
   ]
  },
  {
   "cell_type": "code",
   "execution_count": null,
   "id": "5132853d",
   "metadata": {},
   "outputs": [],
   "source": [
    "%%sql\n",
    "SELECT first_name, last_name, gender FROM patients\n",
    "where gender = 'M'"
   ]
  },
  {
   "cell_type": "markdown",
   "id": "354d09e1",
   "metadata": {},
   "source": [
    "### Question ID: 1\n",
    "- **Solved Time:** 21 seconds\n",
    "- **Hints Used:** 0\n",
    "---"
   ]
  },
  {
   "cell_type": "code",
   "execution_count": null,
   "id": "0836963f",
   "metadata": {},
   "outputs": [],
   "source": [
    "%%sql\n",
    "SELECT first_name, last_name FROM patients\n",
    "where allergies is null"
   ]
  },
  {
   "cell_type": "markdown",
   "id": "37e6f86c",
   "metadata": {},
   "source": [
    "### Question ID: 2\n",
    "- **Solved Time:** 27 seconds\n",
    "- **Hints Used:** 0\n",
    "---"
   ]
  },
  {
   "cell_type": "code",
   "execution_count": null,
   "id": "ce70f35a",
   "metadata": {},
   "outputs": [],
   "source": [
    "%%sql\n",
    "SELECT first_name FROM patients\n",
    "where first_name like 'c%'"
   ]
  },
  {
   "cell_type": "markdown",
   "id": "469b08f9",
   "metadata": {},
   "source": [
    "### Question ID: 3\n",
    "- **Solved Time:** 27 seconds\n",
    "- **Hints Used:** 0\n",
    "---"
   ]
  },
  {
   "cell_type": "code",
   "execution_count": null,
   "id": "9a1d32ad",
   "metadata": {},
   "outputs": [],
   "source": [
    "%%sql\n",
    "SELECT first_name, last_name FROM patients\n",
    "where weight between 100 and 120"
   ]
  },
  {
   "cell_type": "markdown",
   "id": "9330df44",
   "metadata": {},
   "source": [
    "### Question ID: 4\n",
    "- **Solved Time:** 203 seconds\n",
    "- **Hints Used:** 0\n",
    "---"
   ]
  },
  {
   "cell_type": "code",
   "execution_count": null,
   "id": "6572e4e2",
   "metadata": {},
   "outputs": [],
   "source": [
    "%%sql\n",
    "update patients\n",
    "set allergies = 'NKA' where allergies is null"
   ]
  },
  {
   "cell_type": "markdown",
   "id": "b117334d",
   "metadata": {},
   "source": [
    "### Question ID: 5\n",
    "- **Solved Time:** 61 seconds\n",
    "- **Hints Used:** 0\n",
    "---"
   ]
  },
  {
   "cell_type": "code",
   "execution_count": null,
   "id": "649f6613",
   "metadata": {},
   "outputs": [],
   "source": [
    "%%sql\n",
    "select concat(first_name, ' ', last_name) as full_name from patients"
   ]
  },
  {
   "cell_type": "markdown",
   "id": "72d9c553",
   "metadata": {},
   "source": [
    "### Question ID: 6\n",
    "- **Solved Time:** 84 seconds\n",
    "- **Hints Used:** 0\n",
    "---"
   ]
  },
  {
   "cell_type": "code",
   "execution_count": null,
   "id": "94637bd3",
   "metadata": {},
   "outputs": [],
   "source": [
    "%%sql\n",
    "select first_name, last_name, province_name from patients\n",
    "join province_names on patients.province_id = province_names.province_id"
   ]
  },
  {
   "cell_type": "markdown",
   "id": "7fe43dbc",
   "metadata": {},
   "source": [
    "### Question ID: 23\n",
    "- **Solved Time:** 157 seconds\n",
    "- **Hints Used:** 0\n",
    "---"
   ]
  },
  {
   "cell_type": "code",
   "execution_count": null,
   "id": "551e8858",
   "metadata": {},
   "outputs": [],
   "source": [
    "%%sql\n",
    "select count(*) as total_patients from patients\n",
    "where year(birth_date) = 2010"
   ]
  },
  {
   "cell_type": "markdown",
   "id": "0955f92d",
   "metadata": {},
   "source": [
    "### Question ID: 33\n",
    "- **Solved Time:** 28 seconds\n",
    "- **Hints Used:** 0\n",
    "---"
   ]
  },
  {
   "cell_type": "code",
   "execution_count": null,
   "id": "ae6b2d45",
   "metadata": {},
   "outputs": [],
   "source": [
    "%%sql\n",
    "select first_name, last_name, max(height) from patients"
   ]
  },
  {
   "cell_type": "markdown",
   "id": "a84152de",
   "metadata": {},
   "source": [
    "### Question ID: 34\n",
    "- **Solved Time:** 42 seconds\n",
    "- **Hints Used:** 0\n",
    "---"
   ]
  },
  {
   "cell_type": "code",
   "execution_count": null,
   "id": "3dc95dc6",
   "metadata": {},
   "outputs": [],
   "source": [
    "%%sql\n",
    "select * from patients where patient_id in (1, 45, 534, 879, 1000)"
   ]
  },
  {
   "cell_type": "markdown",
   "id": "7435f618",
   "metadata": {},
   "source": [
    "### Question ID: 35\n",
    "- **Solved Time:** 21 seconds\n",
    "- **Hints Used:** 0\n",
    "---"
   ]
  },
  {
   "cell_type": "code",
   "execution_count": null,
   "id": "9b825fd7",
   "metadata": {},
   "outputs": [],
   "source": [
    "%%sql\n",
    "select count(*) as total_admissions from admissions"
   ]
  },
  {
   "cell_type": "markdown",
   "id": "fdce4bed",
   "metadata": {},
   "source": [
    "### Question ID: 41\n",
    "- **Solved Time:** 28 seconds\n",
    "- **Hints Used:** 0\n",
    "---"
   ]
  },
  {
   "cell_type": "code",
   "execution_count": null,
   "id": "46ffb071",
   "metadata": {},
   "outputs": [],
   "source": [
    "%%sql\n",
    "select * from admissions where admission_date = discharge_date"
   ]
  },
  {
   "cell_type": "markdown",
   "id": "6a479114",
   "metadata": {},
   "source": [
    "### Question ID: 42\n",
    "- **Solved Time:** 40 seconds\n",
    "- **Hints Used:** 0\n",
    "---"
   ]
  },
  {
   "cell_type": "code",
   "execution_count": null,
   "id": "fe358f64",
   "metadata": {},
   "outputs": [],
   "source": [
    "%%sql\n",
    "select patient_id, count(*) as total_admissions from admissions where patient_id = 579"
   ]
  },
  {
   "cell_type": "markdown",
   "id": "7d323cc2",
   "metadata": {},
   "source": [
    "### Question ID: 32\n",
    "- **Solved Time:** 49 seconds\n",
    "- **Hints Used:** 0\n",
    "---"
   ]
  },
  {
   "cell_type": "code",
   "execution_count": null,
   "id": "c7710428",
   "metadata": {},
   "outputs": [],
   "source": [
    "%%sql\n",
    "select distinct city from patients where province_id = 'NS'"
   ]
  },
  {
   "cell_type": "markdown",
   "id": "a343beab",
   "metadata": {},
   "source": [
    "### Question ID: 45\n",
    "- **Solved Time:** 33 seconds\n",
    "- **Hints Used:** 0\n",
    "---"
   ]
  },
  {
   "cell_type": "code",
   "execution_count": null,
   "id": "1a8bcb02",
   "metadata": {},
   "outputs": [],
   "source": [
    "%%sql\n",
    "select first_name, last_name, birth_date from patients where height > 160 and weight > 70"
   ]
  },
  {
   "cell_type": "markdown",
   "id": "3379b982",
   "metadata": {},
   "source": [
    "### Question ID: 46\n",
    "- **Solved Time:** 37 seconds\n",
    "- **Hints Used:** 0\n",
    "---"
   ]
  },
  {
   "cell_type": "code",
   "execution_count": null,
   "id": "87b286bb",
   "metadata": {},
   "outputs": [],
   "source": [
    "%%sql\n",
    "select first_name, last_name, allergies from patients where allergies is not null and city = 'Hamilton'"
   ]
  },
  {
   "cell_type": "markdown",
   "id": "c50be94e",
   "metadata": {},
   "source": [
    "### Question ID: 7\n",
    "- **Solved Time:** 40 seconds\n",
    "- **Hints Used:** 0\n",
    "---"
   ]
  },
  {
   "cell_type": "code",
   "execution_count": null,
   "id": "79d3523a",
   "metadata": {},
   "outputs": [],
   "source": [
    "%%sql\n",
    "select distinct year(birth_date) from patients order by year(birth_date) asc"
   ]
  },
  {
   "cell_type": "markdown",
   "id": "92482688",
   "metadata": {},
   "source": [
    "### Question ID: 8\n",
    "- **Solved Time:** 47 seconds\n",
    "- **Hints Used:** 0\n",
    "---"
   ]
  },
  {
   "cell_type": "code",
   "execution_count": null,
   "id": "1c984c98",
   "metadata": {},
   "outputs": [],
   "source": [
    "%%sql\n",
    "select distinct first_name from patients\n",
    "group by first_name\n",
    "having count(*) = 1"
   ]
  },
  {
   "cell_type": "markdown",
   "id": "dbdbb689",
   "metadata": {},
   "source": [
    "### Question ID: 9\n",
    "- **Solved Time:** 114 seconds\n",
    "- **Hints Used:** 0\n",
    "---"
   ]
  },
  {
   "cell_type": "code",
   "execution_count": null,
   "id": "07916e02",
   "metadata": {},
   "outputs": [],
   "source": [
    "%%sql\n",
    "select patient_id, first_name from patients where first_name like 's%s' and len(first_name) >= 6"
   ]
  },
  {
   "cell_type": "markdown",
   "id": "c74fa4d2",
   "metadata": {},
   "source": [
    "### Question ID: 10\n",
    "- **Solved Time:** 94 seconds\n",
    "- **Hints Used:** 0\n",
    "---"
   ]
  },
  {
   "cell_type": "code",
   "execution_count": null,
   "id": "cc126613",
   "metadata": {},
   "outputs": [],
   "source": [
    "%%sql\n",
    "select patients.patient_id, first_name, last_name from patients\n",
    "join admissions on patients.patient_id = admissions.patient_id\n",
    "where diagnosis = 'Dementia'"
   ]
  },
  {
   "cell_type": "markdown",
   "id": "7f199677",
   "metadata": {},
   "source": [
    "### Question ID: 11\n",
    "- **Solved Time:** 48 seconds\n",
    "- **Hints Used:** 0\n",
    "---"
   ]
  },
  {
   "cell_type": "code",
   "execution_count": null,
   "id": "7f157bfa",
   "metadata": {},
   "outputs": [],
   "source": [
    "%%sql\n",
    "select first_name from patients\n",
    "order by len(first_name), first_name"
   ]
  },
  {
   "cell_type": "markdown",
   "id": "3bb4bfb0",
   "metadata": {},
   "source": [
    "### Question ID: 12\n",
    "- **Solved Time:** 395 seconds\n",
    "- **Hints Used:** 1\n",
    "---"
   ]
  },
  {
   "cell_type": "code",
   "execution_count": null,
   "id": "ccf43f6e",
   "metadata": {},
   "outputs": [],
   "source": [
    "%%sql\n",
    "select (select count(*) as male_count from patients where gender = 'M'), (select count(*) as female_count from patients where gender = 'F')"
   ]
  },
  {
   "cell_type": "markdown",
   "id": "26842e2b",
   "metadata": {},
   "source": [
    "### Question ID: 13\n",
    "- **Solved Time:** 122 seconds\n",
    "- **Hints Used:** 0\n",
    "---"
   ]
  },
  {
   "cell_type": "code",
   "execution_count": null,
   "id": "07f17845",
   "metadata": {},
   "outputs": [],
   "source": [
    "%%sql\n",
    "select first_name, last_name, allergies from patients \n",
    "where allergies in ('Penicillin', 'Morphine')\n",
    "order by allergies, first_name, last_name"
   ]
  },
  {
   "cell_type": "markdown",
   "id": "1f847851",
   "metadata": {},
   "source": [
    "### Question ID: 14\n",
    "- **Solved Time:** 165 seconds\n",
    "- **Hints Used:** 2\n",
    "---"
   ]
  },
  {
   "cell_type": "code",
   "execution_count": null,
   "id": "e7313f4f",
   "metadata": {},
   "outputs": [],
   "source": [
    "%%sql\n",
    "select patient_id, diagnosis from admissions\n",
    "group by patient_id, diagnosis\n",
    "having count(patient_id) > 1"
   ]
  },
  {
   "cell_type": "markdown",
   "id": "4459a9fe",
   "metadata": {},
   "source": [
    "### Question ID: 15\n",
    "- **Solved Time:** 71 seconds\n",
    "- **Hints Used:** 0\n",
    "---"
   ]
  },
  {
   "cell_type": "code",
   "execution_count": null,
   "id": "fea011f8",
   "metadata": {},
   "outputs": [],
   "source": [
    "%%sql\n",
    "select city, count(*) as num_patients from patients\n",
    "group by city\n",
    "order by num_patients desc, city"
   ]
  },
  {
   "cell_type": "markdown",
   "id": "f4d40d95",
   "metadata": {},
   "source": [
    "### Question ID: 16\n",
    "- **Solved Time:** 267 seconds\n",
    "- **Hints Used:** 2\n",
    "---"
   ]
  },
  {
   "cell_type": "code",
   "execution_count": null,
   "id": "28267eb4",
   "metadata": {},
   "outputs": [],
   "source": [
    "%%sql\n",
    "select first_name, last_name, 'Patient' as role from patients\n",
    "union all \n",
    "select first_name, last_name, 'Doctor' as role from doctors"
   ]
  },
  {
   "cell_type": "markdown",
   "id": "ca693095",
   "metadata": {},
   "source": [
    "### Question ID: 22\n",
    "- **Solved Time:** 89 seconds\n",
    "- **Hints Used:** 0\n",
    "---"
   ]
  },
  {
   "cell_type": "code",
   "execution_count": null,
   "id": "e7dd7212",
   "metadata": {},
   "outputs": [],
   "source": [
    "%%sql\n",
    "select allergies, count(*) as total_diagnosis from patients\n",
    "where allergies is not null\n",
    "group by allergies\n",
    "order by total_diagnosis desc"
   ]
  },
  {
   "cell_type": "markdown",
   "id": "cfaa18e2",
   "metadata": {},
   "source": [
    "### Question ID: 27\n",
    "- **Solved Time:** 99 seconds\n",
    "- **Hints Used:** 0\n",
    "---"
   ]
  },
  {
   "cell_type": "code",
   "execution_count": null,
   "id": "982be987",
   "metadata": {},
   "outputs": [],
   "source": [
    "%%sql\n",
    "select first_name, last_name, birth_date from patients\n",
    "where year(birth_date) between 1970 and 1979\n",
    "order by birth_date"
   ]
  },
  {
   "cell_type": "markdown",
   "id": "a38013ef",
   "metadata": {},
   "source": [
    "### Question ID: 28\n",
    "- **Solved Time:** 322 seconds\n",
    "- **Hints Used:** 0\n",
    "---"
   ]
  },
  {
   "cell_type": "code",
   "execution_count": null,
   "id": "80ee971b",
   "metadata": {},
   "outputs": [],
   "source": [
    "%%sql\n",
    "select concat(upper(last_name),',', lower(first_name)) as new_name from patients\n",
    "order by first_name desc"
   ]
  },
  {
   "cell_type": "markdown",
   "id": "a439539a",
   "metadata": {},
   "source": [
    "### Question ID: 30\n",
    "- **Solved Time:** 112 seconds\n",
    "- **Hints Used:** 0\n",
    "---"
   ]
  },
  {
   "cell_type": "code",
   "execution_count": null,
   "id": "4b76f184",
   "metadata": {},
   "outputs": [],
   "source": [
    "%%sql\n",
    "select province_id, sum(height) as sum_height from patients\n",
    "group by province_id\n",
    "having sum(height) >= 7000"
   ]
  },
  {
   "cell_type": "markdown",
   "id": "87cc41f5",
   "metadata": {},
   "source": [
    "### Question ID: 31\n",
    "- **Solved Time:** 79 seconds\n",
    "- **Hints Used:** 0\n",
    "---"
   ]
  },
  {
   "cell_type": "code",
   "execution_count": null,
   "id": "0bb70350",
   "metadata": {},
   "outputs": [],
   "source": [
    "%%sql\n",
    "select max(weight)-min(weight) as weight_delta from patients\n",
    "where last_name = 'Maroni'"
   ]
  },
  {
   "cell_type": "markdown",
   "id": "20323c47",
   "metadata": {},
   "source": [
    "### Question ID: 37\n",
    "- **Solved Time:** 163 seconds\n",
    "- **Hints Used:** 0\n",
    "---"
   ]
  },
  {
   "cell_type": "code",
   "execution_count": null,
   "id": "c8cc8428",
   "metadata": {},
   "outputs": [],
   "source": [
    "%%sql\n",
    "select day(admission_date) as day_number, count(*) as nb_admissions from admissions\n",
    "group by day(admission_date)\n",
    "order by nb_admissions desc"
   ]
  },
  {
   "cell_type": "markdown",
   "id": "cbd75cde",
   "metadata": {},
   "source": [
    "### Question ID: 38\n",
    "- **Solved Time:** 92 seconds\n",
    "- **Hints Used:** 0\n",
    "---"
   ]
  },
  {
   "cell_type": "code",
   "execution_count": null,
   "id": "beb9953d",
   "metadata": {},
   "outputs": [],
   "source": [
    "%%sql\n",
    "select * from admissions\n",
    "where patient_id = '542'\n",
    "group by patient_id\n",
    "having max(admission_date)"
   ]
  },
  {
   "cell_type": "markdown",
   "id": "dce6c270",
   "metadata": {},
   "source": [
    "### Question ID: 40\n",
    "- **Solved Time:** 542 seconds\n",
    "- **Hints Used:** 2\n",
    "---"
   ]
  },
  {
   "cell_type": "code",
   "execution_count": null,
   "id": "5a023564",
   "metadata": {},
   "outputs": [],
   "source": [
    "%%sql\n",
    "select patient_id, attending_doctor_id, diagnosis from admissions\n",
    "where patient_id % 2 != 0 and attending_doctor_id in (1, 5, 19)\n",
    "or attending_doctor_id like '%2%' and len(patient_id) = 3"
   ]
  },
  {
   "cell_type": "markdown",
   "id": "3a12d610",
   "metadata": {},
   "source": [
    "### Question ID: 47\n",
    "- **Solved Time:** 413 seconds\n",
    "- **Hints Used:** 1\n",
    "---"
   ]
  },
  {
   "cell_type": "code",
   "execution_count": null,
   "id": "446b998e",
   "metadata": {},
   "outputs": [],
   "source": [
    "%%sql\n",
    "select first_name, last_name, count(*) as admissions_total from doctors\n",
    "join admissions on doctors.doctor_id = admissions.attending_doctor_id\n",
    "group by first_name"
   ]
  },
  {
   "cell_type": "markdown",
   "id": "5ad3b977",
   "metadata": {},
   "source": [
    "### Question ID: 48\n",
    "- **Solved Time:** 308 seconds\n",
    "- **Hints Used:** 0\n",
    "---"
   ]
  },
  {
   "cell_type": "code",
   "execution_count": null,
   "id": "9f8aa366",
   "metadata": {},
   "outputs": [],
   "source": [
    "%%sql\n",
    "select doctor_id, concat(first_name, ' ', last_name) as full_name, max(admission_date) as last_date, min(admission_date) as first_date from doctors\n",
    "join admissions on doctors.doctor_id = admissions.attending_doctor_id\n",
    "group by doctor_id"
   ]
  },
  {
   "cell_type": "markdown",
   "id": "9ceaf2f6",
   "metadata": {},
   "source": [
    "### Question ID: 50\n",
    "- **Solved Time:** 208 seconds\n",
    "- **Hints Used:** 0\n",
    "---"
   ]
  },
  {
   "cell_type": "code",
   "execution_count": null,
   "id": "41b63374",
   "metadata": {},
   "outputs": [],
   "source": [
    "%%sql\n",
    "select province_name, count(*) as patient_count from province_names\n",
    "join patients on province_names.province_id = patients.province_id\n",
    "group by province_name\n",
    "order by patient_count desc"
   ]
  },
  {
   "cell_type": "markdown",
   "id": "0124a848",
   "metadata": {},
   "source": [
    "### Question ID: 51\n",
    "- **Solved Time:** 231 seconds\n",
    "- **Hints Used:** 0\n",
    "---"
   ]
  },
  {
   "cell_type": "code",
   "execution_count": null,
   "id": "5f044335",
   "metadata": {},
   "outputs": [],
   "source": [
    "%%sql\n",
    "select concat(patients.first_name,' ',patients.last_name) as patient_name, diagnosis, concat(doctors.first_name,' ',doctors.last_name) from patients\n",
    "join admissions on patients.patient_id = admissions.patient_id\n",
    "join doctors on admissions.attending_doctor_id = doctors.doctor_id"
   ]
  },
  {
   "cell_type": "markdown",
   "id": "d544f9e6",
   "metadata": {},
   "source": [
    "### Question ID: 54\n",
    "- **Solved Time:** 98 seconds\n",
    "- **Hints Used:** 0\n",
    "---"
   ]
  },
  {
   "cell_type": "code",
   "execution_count": null,
   "id": "d17f7f06",
   "metadata": {},
   "outputs": [],
   "source": [
    "%%sql\n",
    "select first_name, last_name, count(*) as nb_duplicates from patients\n",
    "group by first_name, last_name\n",
    "having count(*) > 1"
   ]
  },
  {
   "cell_type": "markdown",
   "id": "5b587479",
   "metadata": {},
   "source": [
    "### Question ID: 55\n",
    "- **Solved Time:** 644 seconds\n",
    "- **Hints Used:** 1\n",
    "---"
   ]
  },
  {
   "cell_type": "code",
   "execution_count": null,
   "id": "b108ced9",
   "metadata": {},
   "outputs": [],
   "source": [
    "%%sql\n",
    "select concat(first_name,' ',last_name) as full_name, round(height/30.48, 1) as height, round(weight*2.205, 0) as weight,\n",
    "birth_date, case\n",
    "when gender = 'M' then 'male'\n",
    "else 'female'\n",
    "end as gender\n",
    "from patients"
   ]
  },
  {
   "cell_type": "markdown",
   "id": "531e0dbe",
   "metadata": {},
   "source": [
    "### Question ID: 70\n",
    "- **Solved Time:** 1531 seconds\n",
    "- **Hints Used:** 2\n",
    "---"
   ]
  },
  {
   "cell_type": "code",
   "execution_count": null,
   "id": "d635639d",
   "metadata": {},
   "outputs": [],
   "source": [
    "%%sql\n",
    "SELECT patients.patient_id, first_name, last_name from patients\n",
    "where patients.patient_id not in (select admissions.patient_id from admissions)"
   ]
  },
  {
   "cell_type": "markdown",
   "id": "5d1d634c",
   "metadata": {},
   "source": [
    "### Question ID: 17\n",
    "- **Solved Time:** 802 seconds\n",
    "- **Hints Used:** 0\n",
    "---"
   ]
  },
  {
   "cell_type": "code",
   "execution_count": null,
   "id": "bcebb768",
   "metadata": {},
   "outputs": [],
   "source": [
    "%%sql\n",
    "SELECT count(*) as patient_in_group, floor(weight/10) * 10 as weight_group from patients\n",
    "group by weight_group\n",
    "order by weight desc"
   ]
  },
  {
   "cell_type": "markdown",
   "id": "c7ac4578",
   "metadata": {},
   "source": [
    "### Question ID: 18\n",
    "- **Solved Time:** 529 seconds\n",
    "- **Hints Used:** 0\n",
    "---"
   ]
  },
  {
   "cell_type": "code",
   "execution_count": null,
   "id": "ff71d461",
   "metadata": {},
   "outputs": [],
   "source": [
    "%%sql\n",
    "SELECT patient_id, weight, height, case\n",
    "when weight/power(height/100.0, 2) >= 30 then '1'\n",
    "else '0'\n",
    "end as isObese\n",
    "from patients"
   ]
  },
  {
   "cell_type": "markdown",
   "id": "16d32865",
   "metadata": {},
   "source": [
    "### Question ID: 19\n",
    "- **Solved Time:** 175 seconds\n",
    "- **Hints Used:** 0\n",
    "---"
   ]
  },
  {
   "cell_type": "code",
   "execution_count": null,
   "id": "12185128",
   "metadata": {},
   "outputs": [],
   "source": [
    "%%sql\n",
    "select patients.patient_id, patients.first_name, patients.last_name, specialty from patients\n",
    "join admissions on patients.patient_id = admissions.patient_id\n",
    "join doctors on admissions.attending_doctor_id = doctors.doctor_id\n",
    "where diagnosis = 'Epilepsy' and doctors.first_name = 'Lisa'"
   ]
  },
  {
   "cell_type": "markdown",
   "id": "20c07ca0",
   "metadata": {},
   "source": [
    "### Question ID: 74\n",
    "- **Solved Time:** 646 seconds\n",
    "- **Hints Used:** 0\n",
    "---"
   ]
  },
  {
   "cell_type": "code",
   "execution_count": null,
   "id": "bbef968b",
   "metadata": {},
   "outputs": [],
   "source": [
    "%%sql\n",
    "SELECT max(nb_visits), min(nb_visits), round(avg (nb_visits), 2) from \n",
    "(select admission_date, count(*) as nb_visits from admissions\n",
    " group by admission_date)"
   ]
  },
  {
   "cell_type": "markdown",
   "id": "a619af2d",
   "metadata": {},
   "source": [
    "### Question ID: 20\n",
    "- **Solved Time:** 411 seconds\n",
    "- **Hints Used:** 0\n",
    "---"
   ]
  },
  {
   "cell_type": "code",
   "execution_count": null,
   "id": "18c4f0d8",
   "metadata": {},
   "outputs": [],
   "source": [
    "%%sql\n",
    "SELECT distinct patients.patient_id, concat(patients.patient_id, len(last_name), year(birth_date)) from patients\n",
    "inner join admissions on patients.patient_id = admissions.patient_id"
   ]
  },
  {
   "cell_type": "markdown",
   "id": "02587f1c",
   "metadata": {},
   "source": [
    "### Question ID: 24\n",
    "- **Solved Time:** 450 seconds\n",
    "- **Hints Used:** 2\n",
    "---"
   ]
  },
  {
   "cell_type": "code",
   "execution_count": null,
   "id": "1a604a34",
   "metadata": {},
   "outputs": [],
   "source": [
    "%%sql\n",
    "SELECT province_name from province_names\n",
    "join patients on province_names.province_id = patients.province_id\n",
    "group by province_name\n",
    "having COUNT( CASE WHEN gender = 'M' THEN 1 END) > COUNT( CASE WHEN gender = 'F' THEN 1 END);"
   ]
  },
  {
   "cell_type": "markdown",
   "id": "866f02bd",
   "metadata": {},
   "source": [
    "### Question ID: 25\n",
    "- **Solved Time:** 191 seconds\n",
    "- **Hints Used:** 0\n",
    "---"
   ]
  },
  {
   "cell_type": "code",
   "execution_count": null,
   "id": "5c32ff15",
   "metadata": {},
   "outputs": [],
   "source": [
    "%%sql\n",
    "SELECT * from patients\n",
    "where first_name like'%__r%' and gender = 'F' and month(birth_date) in (02,05,12)\n",
    "and weight between 60 and 80\n",
    "and patient_id % 2 != 0\n",
    "and city = 'Kingston'"
   ]
  },
  {
   "cell_type": "markdown",
   "id": "c5364b51",
   "metadata": {},
   "source": [
    "### Question ID: 26\n",
    "- **Solved Time:** 858 seconds\n",
    "- **Hints Used:** 2\n",
    "---"
   ]
  },
  {
   "cell_type": "code",
   "execution_count": null,
   "id": "9d1caae0",
   "metadata": {},
   "outputs": [],
   "source": [
    "%%sql\n",
    "SELECT CONCAT(ROUND(100.0 * COUNT(CASE WHEN gender = 'M' THEN 1 END) / COUNT(*), 2), '%') AS Percent_Male\n",
    "FROM patients;"
   ]
  },
  {
   "cell_type": "markdown",
   "id": "630240de",
   "metadata": {},
   "source": [
    "### Question ID: 44\n",
    "- **Solved Time:** 15929 seconds\n",
    "- **Hints Used:** 2\n",
    "---"
   ]
  },
  {
   "cell_type": "code",
   "execution_count": null,
   "id": "7837d3eb",
   "metadata": {},
   "outputs": [],
   "source": [
    "%%sql\n",
    "select admission_date, count(*) as admission_day, Count(*) - lag(count(*)) over (order by admission_date)\n",
    "from admissions\n",
    "group by admission_date"
   ]
  },
  {
   "cell_type": "markdown",
   "id": "7539dfbb",
   "metadata": {},
   "source": [
    "### Question ID: 53\n",
    "- **Solved Time:** 310 seconds\n",
    "- **Hints Used:** 1\n",
    "---"
   ]
  },
  {
   "cell_type": "code",
   "execution_count": null,
   "id": "3617d30a",
   "metadata": {},
   "outputs": [],
   "source": [
    "%%sql\n",
    "select province_name from province_names\n",
    "ORDER BY CASE \n",
    "    WHEN province_name = 'Ontario' THEN 0      ELSE 1                                           END,\n",
    "  province_name ASC"
   ]
  },
  {
   "cell_type": "markdown",
   "id": "c72f7ade",
   "metadata": {},
   "source": [
    "### Question ID: 69\n",
    "- **Solved Time:** 428 seconds\n",
    "- **Hints Used:** 0\n",
    "---"
   ]
  },
  {
   "cell_type": "code",
   "execution_count": null,
   "id": "089d6655",
   "metadata": {},
   "outputs": [],
   "source": [
    "%%sql\n",
    "select doctor_id, concat(first_name,' ',last_name) as doctor_name, specialty, year(admission_date), count(*) as total_admissions\n",
    "from doctors\n",
    "join admissions on doctors.doctor_id = admissions.attending_doctor_id\n",
    "group by doctor_id, year(admission_date)"
   ]
  },
  {
   "cell_type": "markdown",
   "id": "d1a87973",
   "metadata": {},
   "source": [
    "### Question ID: 21\n",
    "- **Solved Time:** 662 seconds\n",
    "- **Hints Used:** 0\n",
    "---"
   ]
  },
  {
   "cell_type": "code",
   "execution_count": null,
   "id": "6a4c255f",
   "metadata": {},
   "outputs": [],
   "source": [
    "%%sql\n",
    "SELECT (case when patient_id % 2 = 0 then 'Yes'\n",
    "else 'No' end) as has_insurance, sum(case when patient_id % 2 = 0 then 10\n",
    "else 50 \n",
    "end) as cost_after\n",
    "from admissions\n",
    "group by has_insurance"
   ]
  }
 ],
 "metadata": {},
 "nbformat": 4,
 "nbformat_minor": 5
}
